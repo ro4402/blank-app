{
  "nbformat": 4,
  "nbformat_minor": 0,
  "metadata": {
    "colab": {
      "provenance": [],
      "authorship_tag": "ABX9TyMOwPvcxegPreG3XJwAvJUN",
      "include_colab_link": true
    },
    "kernelspec": {
      "name": "python3",
      "display_name": "Python 3"
    },
    "language_info": {
      "name": "python"
    },
    "widgets": {
      "application/vnd.jupyter.widget-state+json": {
        "b64aa4b5622e45d28803087379f2719a": {
          "model_module": "@jupyter-widgets/controls",
          "model_name": "VBoxModel",
          "model_module_version": "1.5.0",
          "state": {
            "_dom_classes": [
              "widget-interact"
            ],
            "_model_module": "@jupyter-widgets/controls",
            "_model_module_version": "1.5.0",
            "_model_name": "VBoxModel",
            "_view_count": null,
            "_view_module": "@jupyter-widgets/controls",
            "_view_module_version": "1.5.0",
            "_view_name": "VBoxView",
            "box_style": "",
            "children": [
              "IPY_MODEL_4a56471bec924d3a94436abf20b97f01",
              "IPY_MODEL_0fd0510a9e0b456fbf71b5a184f816ae",
              "IPY_MODEL_f3570a5d61b9442db904689d56a3edaa"
            ],
            "layout": "IPY_MODEL_f97ce821cd1c4da29f3395264fdfa857"
          }
        },
        "4a56471bec924d3a94436abf20b97f01": {
          "model_module": "@jupyter-widgets/controls",
          "model_name": "BoundedFloatTextModel",
          "model_module_version": "1.5.0",
          "state": {
            "_dom_classes": [],
            "_model_module": "@jupyter-widgets/controls",
            "_model_module_version": "1.5.0",
            "_model_name": "BoundedFloatTextModel",
            "_view_count": null,
            "_view_module": "@jupyter-widgets/controls",
            "_view_module_version": "1.5.0",
            "_view_name": "FloatTextView",
            "continuous_update": false,
            "description": "緯度",
            "description_tooltip": null,
            "disabled": false,
            "layout": "IPY_MODEL_8c76b4ff09bc479281999f1461825943",
            "max": 65,
            "min": -65,
            "step": null,
            "style": "IPY_MODEL_e47ff9cdefc546bf88dd5fcc607eec5c",
            "value": -58
          }
        },
        "0fd0510a9e0b456fbf71b5a184f816ae": {
          "model_module": "@jupyter-widgets/controls",
          "model_name": "BoundedFloatTextModel",
          "model_module_version": "1.5.0",
          "state": {
            "_dom_classes": [],
            "_model_module": "@jupyter-widgets/controls",
            "_model_module_version": "1.5.0",
            "_model_name": "BoundedFloatTextModel",
            "_view_count": null,
            "_view_module": "@jupyter-widgets/controls",
            "_view_module_version": "1.5.0",
            "_view_name": "FloatTextView",
            "continuous_update": false,
            "description": "經度",
            "description_tooltip": null,
            "disabled": false,
            "layout": "IPY_MODEL_0e459af0104348faabdf9c89053bdf0b",
            "max": 180,
            "min": -180,
            "step": null,
            "style": "IPY_MODEL_1772192a0e6346478dbd1eb3c6e51b8a",
            "value": 121.5183
          }
        },
        "f3570a5d61b9442db904689d56a3edaa": {
          "model_module": "@jupyter-widgets/output",
          "model_name": "OutputModel",
          "model_module_version": "1.0.0",
          "state": {
            "_dom_classes": [],
            "_model_module": "@jupyter-widgets/output",
            "_model_module_version": "1.0.0",
            "_model_name": "OutputModel",
            "_view_count": null,
            "_view_module": "@jupyter-widgets/output",
            "_view_module_version": "1.0.0",
            "_view_name": "OutputView",
            "layout": "IPY_MODEL_15e778efeef64cc4bb25deab61da3c56",
            "msg_id": "",
            "outputs": [
              {
                "output_type": "display_data",
                "data": {
                  "text/plain": "[-58.0, 121.5183]"
                },
                "metadata": {}
              }
            ]
          }
        },
        "f97ce821cd1c4da29f3395264fdfa857": {
          "model_module": "@jupyter-widgets/base",
          "model_name": "LayoutModel",
          "model_module_version": "1.2.0",
          "state": {
            "_model_module": "@jupyter-widgets/base",
            "_model_module_version": "1.2.0",
            "_model_name": "LayoutModel",
            "_view_count": null,
            "_view_module": "@jupyter-widgets/base",
            "_view_module_version": "1.2.0",
            "_view_name": "LayoutView",
            "align_content": null,
            "align_items": null,
            "align_self": null,
            "border": null,
            "bottom": null,
            "display": null,
            "flex": null,
            "flex_flow": null,
            "grid_area": null,
            "grid_auto_columns": null,
            "grid_auto_flow": null,
            "grid_auto_rows": null,
            "grid_column": null,
            "grid_gap": null,
            "grid_row": null,
            "grid_template_areas": null,
            "grid_template_columns": null,
            "grid_template_rows": null,
            "height": null,
            "justify_content": null,
            "justify_items": null,
            "left": null,
            "margin": null,
            "max_height": null,
            "max_width": null,
            "min_height": null,
            "min_width": null,
            "object_fit": null,
            "object_position": null,
            "order": null,
            "overflow": null,
            "overflow_x": null,
            "overflow_y": null,
            "padding": null,
            "right": null,
            "top": null,
            "visibility": null,
            "width": null
          }
        },
        "8c76b4ff09bc479281999f1461825943": {
          "model_module": "@jupyter-widgets/base",
          "model_name": "LayoutModel",
          "model_module_version": "1.2.0",
          "state": {
            "_model_module": "@jupyter-widgets/base",
            "_model_module_version": "1.2.0",
            "_model_name": "LayoutModel",
            "_view_count": null,
            "_view_module": "@jupyter-widgets/base",
            "_view_module_version": "1.2.0",
            "_view_name": "LayoutView",
            "align_content": null,
            "align_items": null,
            "align_self": null,
            "border": null,
            "bottom": null,
            "display": null,
            "flex": null,
            "flex_flow": null,
            "grid_area": null,
            "grid_auto_columns": null,
            "grid_auto_flow": null,
            "grid_auto_rows": null,
            "grid_column": null,
            "grid_gap": null,
            "grid_row": null,
            "grid_template_areas": null,
            "grid_template_columns": null,
            "grid_template_rows": null,
            "height": null,
            "justify_content": null,
            "justify_items": null,
            "left": null,
            "margin": null,
            "max_height": null,
            "max_width": null,
            "min_height": null,
            "min_width": null,
            "object_fit": null,
            "object_position": null,
            "order": null,
            "overflow": null,
            "overflow_x": null,
            "overflow_y": null,
            "padding": null,
            "right": null,
            "top": null,
            "visibility": null,
            "width": null
          }
        },
        "e47ff9cdefc546bf88dd5fcc607eec5c": {
          "model_module": "@jupyter-widgets/controls",
          "model_name": "DescriptionStyleModel",
          "model_module_version": "1.5.0",
          "state": {
            "_model_module": "@jupyter-widgets/controls",
            "_model_module_version": "1.5.0",
            "_model_name": "DescriptionStyleModel",
            "_view_count": null,
            "_view_module": "@jupyter-widgets/base",
            "_view_module_version": "1.2.0",
            "_view_name": "StyleView",
            "description_width": ""
          }
        },
        "0e459af0104348faabdf9c89053bdf0b": {
          "model_module": "@jupyter-widgets/base",
          "model_name": "LayoutModel",
          "model_module_version": "1.2.0",
          "state": {
            "_model_module": "@jupyter-widgets/base",
            "_model_module_version": "1.2.0",
            "_model_name": "LayoutModel",
            "_view_count": null,
            "_view_module": "@jupyter-widgets/base",
            "_view_module_version": "1.2.0",
            "_view_name": "LayoutView",
            "align_content": null,
            "align_items": null,
            "align_self": null,
            "border": null,
            "bottom": null,
            "display": null,
            "flex": null,
            "flex_flow": null,
            "grid_area": null,
            "grid_auto_columns": null,
            "grid_auto_flow": null,
            "grid_auto_rows": null,
            "grid_column": null,
            "grid_gap": null,
            "grid_row": null,
            "grid_template_areas": null,
            "grid_template_columns": null,
            "grid_template_rows": null,
            "height": null,
            "justify_content": null,
            "justify_items": null,
            "left": null,
            "margin": null,
            "max_height": null,
            "max_width": null,
            "min_height": null,
            "min_width": null,
            "object_fit": null,
            "object_position": null,
            "order": null,
            "overflow": null,
            "overflow_x": null,
            "overflow_y": null,
            "padding": null,
            "right": null,
            "top": null,
            "visibility": null,
            "width": null
          }
        },
        "1772192a0e6346478dbd1eb3c6e51b8a": {
          "model_module": "@jupyter-widgets/controls",
          "model_name": "DescriptionStyleModel",
          "model_module_version": "1.5.0",
          "state": {
            "_model_module": "@jupyter-widgets/controls",
            "_model_module_version": "1.5.0",
            "_model_name": "DescriptionStyleModel",
            "_view_count": null,
            "_view_module": "@jupyter-widgets/base",
            "_view_module_version": "1.2.0",
            "_view_name": "StyleView",
            "description_width": ""
          }
        },
        "15e778efeef64cc4bb25deab61da3c56": {
          "model_module": "@jupyter-widgets/base",
          "model_name": "LayoutModel",
          "model_module_version": "1.2.0",
          "state": {
            "_model_module": "@jupyter-widgets/base",
            "_model_module_version": "1.2.0",
            "_model_name": "LayoutModel",
            "_view_count": null,
            "_view_module": "@jupyter-widgets/base",
            "_view_module_version": "1.2.0",
            "_view_name": "LayoutView",
            "align_content": null,
            "align_items": null,
            "align_self": null,
            "border": null,
            "bottom": null,
            "display": null,
            "flex": null,
            "flex_flow": null,
            "grid_area": null,
            "grid_auto_columns": null,
            "grid_auto_flow": null,
            "grid_auto_rows": null,
            "grid_column": null,
            "grid_gap": null,
            "grid_row": null,
            "grid_template_areas": null,
            "grid_template_columns": null,
            "grid_template_rows": null,
            "height": null,
            "justify_content": null,
            "justify_items": null,
            "left": null,
            "margin": null,
            "max_height": null,
            "max_width": null,
            "min_height": null,
            "min_width": null,
            "object_fit": null,
            "object_position": null,
            "order": null,
            "overflow": null,
            "overflow_x": null,
            "overflow_y": null,
            "padding": null,
            "right": null,
            "top": null,
            "visibility": null,
            "width": null
          }
        },
        "4639c8486e4e405eada339fefb22c7e7": {
          "model_module": "@jupyter-widgets/controls",
          "model_name": "VBoxModel",
          "model_module_version": "1.5.0",
          "state": {
            "_dom_classes": [
              "widget-interact"
            ],
            "_model_module": "@jupyter-widgets/controls",
            "_model_module_version": "1.5.0",
            "_model_name": "VBoxModel",
            "_view_count": null,
            "_view_module": "@jupyter-widgets/controls",
            "_view_module_version": "1.5.0",
            "_view_name": "VBoxView",
            "box_style": "",
            "children": [
              "IPY_MODEL_31ca78c6dd684aaea28d209748c15c24",
              "IPY_MODEL_c82586d5574b48079aa98122a4acb3d6"
            ],
            "layout": "IPY_MODEL_e09aebcad0144b909697b3d4de12858d"
          }
        },
        "31ca78c6dd684aaea28d209748c15c24": {
          "model_module": "@jupyter-widgets/controls",
          "model_name": "DropdownModel",
          "model_module_version": "1.5.0",
          "state": {
            "_dom_classes": [],
            "_model_module": "@jupyter-widgets/controls",
            "_model_module_version": "1.5.0",
            "_model_name": "DropdownModel",
            "_options_labels": [
              "水星",
              "金星",
              "火星",
              "木星",
              "土星",
              "天王星",
              "海王星"
            ],
            "_view_count": null,
            "_view_module": "@jupyter-widgets/controls",
            "_view_module_version": "1.5.0",
            "_view_name": "DropdownView",
            "description": "行星",
            "description_tooltip": null,
            "disabled": false,
            "index": 0,
            "layout": "IPY_MODEL_dd03c68473434c2190e7d45f3d310f67",
            "style": "IPY_MODEL_495611ec502647a9bf29bd8124e5878f"
          }
        },
        "c82586d5574b48079aa98122a4acb3d6": {
          "model_module": "@jupyter-widgets/output",
          "model_name": "OutputModel",
          "model_module_version": "1.0.0",
          "state": {
            "_dom_classes": [],
            "_model_module": "@jupyter-widgets/output",
            "_model_module_version": "1.0.0",
            "_model_name": "OutputModel",
            "_view_count": null,
            "_view_module": "@jupyter-widgets/output",
            "_view_module_version": "1.0.0",
            "_view_name": "OutputView",
            "layout": "IPY_MODEL_d897d1693ee64d33a5fb9a18fc656639",
            "msg_id": "",
            "outputs": [
              {
                "output_type": "display_data",
                "data": {
                  "text/plain": "'199 MERCURY'",
                  "application/vnd.google.colaboratory.intrinsic+json": {
                    "type": "string"
                  }
                },
                "metadata": {}
              }
            ]
          }
        },
        "e09aebcad0144b909697b3d4de12858d": {
          "model_module": "@jupyter-widgets/base",
          "model_name": "LayoutModel",
          "model_module_version": "1.2.0",
          "state": {
            "_model_module": "@jupyter-widgets/base",
            "_model_module_version": "1.2.0",
            "_model_name": "LayoutModel",
            "_view_count": null,
            "_view_module": "@jupyter-widgets/base",
            "_view_module_version": "1.2.0",
            "_view_name": "LayoutView",
            "align_content": null,
            "align_items": null,
            "align_self": null,
            "border": null,
            "bottom": null,
            "display": null,
            "flex": null,
            "flex_flow": null,
            "grid_area": null,
            "grid_auto_columns": null,
            "grid_auto_flow": null,
            "grid_auto_rows": null,
            "grid_column": null,
            "grid_gap": null,
            "grid_row": null,
            "grid_template_areas": null,
            "grid_template_columns": null,
            "grid_template_rows": null,
            "height": null,
            "justify_content": null,
            "justify_items": null,
            "left": null,
            "margin": null,
            "max_height": null,
            "max_width": null,
            "min_height": null,
            "min_width": null,
            "object_fit": null,
            "object_position": null,
            "order": null,
            "overflow": null,
            "overflow_x": null,
            "overflow_y": null,
            "padding": null,
            "right": null,
            "top": null,
            "visibility": null,
            "width": null
          }
        },
        "dd03c68473434c2190e7d45f3d310f67": {
          "model_module": "@jupyter-widgets/base",
          "model_name": "LayoutModel",
          "model_module_version": "1.2.0",
          "state": {
            "_model_module": "@jupyter-widgets/base",
            "_model_module_version": "1.2.0",
            "_model_name": "LayoutModel",
            "_view_count": null,
            "_view_module": "@jupyter-widgets/base",
            "_view_module_version": "1.2.0",
            "_view_name": "LayoutView",
            "align_content": null,
            "align_items": null,
            "align_self": null,
            "border": null,
            "bottom": null,
            "display": null,
            "flex": null,
            "flex_flow": null,
            "grid_area": null,
            "grid_auto_columns": null,
            "grid_auto_flow": null,
            "grid_auto_rows": null,
            "grid_column": null,
            "grid_gap": null,
            "grid_row": null,
            "grid_template_areas": null,
            "grid_template_columns": null,
            "grid_template_rows": null,
            "height": null,
            "justify_content": null,
            "justify_items": null,
            "left": null,
            "margin": null,
            "max_height": null,
            "max_width": null,
            "min_height": null,
            "min_width": null,
            "object_fit": null,
            "object_position": null,
            "order": null,
            "overflow": null,
            "overflow_x": null,
            "overflow_y": null,
            "padding": null,
            "right": null,
            "top": null,
            "visibility": null,
            "width": null
          }
        },
        "495611ec502647a9bf29bd8124e5878f": {
          "model_module": "@jupyter-widgets/controls",
          "model_name": "DescriptionStyleModel",
          "model_module_version": "1.5.0",
          "state": {
            "_model_module": "@jupyter-widgets/controls",
            "_model_module_version": "1.5.0",
            "_model_name": "DescriptionStyleModel",
            "_view_count": null,
            "_view_module": "@jupyter-widgets/base",
            "_view_module_version": "1.2.0",
            "_view_name": "StyleView",
            "description_width": ""
          }
        },
        "d897d1693ee64d33a5fb9a18fc656639": {
          "model_module": "@jupyter-widgets/base",
          "model_name": "LayoutModel",
          "model_module_version": "1.2.0",
          "state": {
            "_model_module": "@jupyter-widgets/base",
            "_model_module_version": "1.2.0",
            "_model_name": "LayoutModel",
            "_view_count": null,
            "_view_module": "@jupyter-widgets/base",
            "_view_module_version": "1.2.0",
            "_view_name": "LayoutView",
            "align_content": null,
            "align_items": null,
            "align_self": null,
            "border": null,
            "bottom": null,
            "display": null,
            "flex": null,
            "flex_flow": null,
            "grid_area": null,
            "grid_auto_columns": null,
            "grid_auto_flow": null,
            "grid_auto_rows": null,
            "grid_column": null,
            "grid_gap": null,
            "grid_row": null,
            "grid_template_areas": null,
            "grid_template_columns": null,
            "grid_template_rows": null,
            "height": null,
            "justify_content": null,
            "justify_items": null,
            "left": null,
            "margin": null,
            "max_height": null,
            "max_width": null,
            "min_height": null,
            "min_width": null,
            "object_fit": null,
            "object_position": null,
            "order": null,
            "overflow": null,
            "overflow_x": null,
            "overflow_y": null,
            "padding": null,
            "right": null,
            "top": null,
            "visibility": null,
            "width": null
          }
        },
        "a31f7117a77142bebaf0b411e93cbaed": {
          "model_module": "@jupyter-widgets/controls",
          "model_name": "VBoxModel",
          "model_module_version": "1.5.0",
          "state": {
            "_dom_classes": [
              "widget-interact"
            ],
            "_model_module": "@jupyter-widgets/controls",
            "_model_module_version": "1.5.0",
            "_model_name": "VBoxModel",
            "_view_count": null,
            "_view_module": "@jupyter-widgets/controls",
            "_view_module_version": "1.5.0",
            "_view_name": "VBoxView",
            "box_style": "",
            "children": [
              "IPY_MODEL_f1b309f493c14bc0a2a76f9117876628",
              "IPY_MODEL_f3266cdfc3fa4ee684c71febc6959e96",
              "IPY_MODEL_81ad11f4497749cb9830a00dd0dde8bf"
            ],
            "layout": "IPY_MODEL_5259cdf27ed246ada6e7a85b919f332e"
          }
        },
        "f1b309f493c14bc0a2a76f9117876628": {
          "model_module": "@jupyter-widgets/controls",
          "model_name": "DatePickerModel",
          "model_module_version": "1.5.0",
          "state": {
            "_dom_classes": [],
            "_model_module": "@jupyter-widgets/controls",
            "_model_module_version": "1.5.0",
            "_model_name": "DatePickerModel",
            "_view_count": null,
            "_view_module": "@jupyter-widgets/controls",
            "_view_module_version": "1.5.0",
            "_view_name": "DatePickerView",
            "description": "開始日期",
            "description_tooltip": null,
            "disabled": false,
            "layout": "IPY_MODEL_38ad04ea19614c7fafc3fe7130cf44d1",
            "style": "IPY_MODEL_e0930b3dc5b0401cb0bc061dbde9a01f",
            "value": {
              "year": 2025,
              "month": 0,
              "date": 22
            }
          }
        },
        "f3266cdfc3fa4ee684c71febc6959e96": {
          "model_module": "@jupyter-widgets/controls",
          "model_name": "DatePickerModel",
          "model_module_version": "1.5.0",
          "state": {
            "_dom_classes": [],
            "_model_module": "@jupyter-widgets/controls",
            "_model_module_version": "1.5.0",
            "_model_name": "DatePickerModel",
            "_view_count": null,
            "_view_module": "@jupyter-widgets/controls",
            "_view_module_version": "1.5.0",
            "_view_name": "DatePickerView",
            "description": "結束日期",
            "description_tooltip": null,
            "disabled": false,
            "layout": "IPY_MODEL_90d756b6fa734976a7d1ad7d6c1bb3c0",
            "style": "IPY_MODEL_9d36b9c8045b400aaf6587ce026585a7",
            "value": {
              "year": 2026,
              "month": 0,
              "date": 22
            }
          }
        },
        "81ad11f4497749cb9830a00dd0dde8bf": {
          "model_module": "@jupyter-widgets/output",
          "model_name": "OutputModel",
          "model_module_version": "1.0.0",
          "state": {
            "_dom_classes": [],
            "_model_module": "@jupyter-widgets/output",
            "_model_module_version": "1.0.0",
            "_model_name": "OutputModel",
            "_view_count": null,
            "_view_module": "@jupyter-widgets/output",
            "_view_module_version": "1.0.0",
            "_view_name": "OutputView",
            "layout": "IPY_MODEL_a81cd152024d4c2c92c1900d135715f9",
            "msg_id": "",
            "outputs": [
              {
                "output_type": "stream",
                "name": "stdout",
                "text": [
                  "天數=365天\n"
                ]
              }
            ]
          }
        },
        "5259cdf27ed246ada6e7a85b919f332e": {
          "model_module": "@jupyter-widgets/base",
          "model_name": "LayoutModel",
          "model_module_version": "1.2.0",
          "state": {
            "_model_module": "@jupyter-widgets/base",
            "_model_module_version": "1.2.0",
            "_model_name": "LayoutModel",
            "_view_count": null,
            "_view_module": "@jupyter-widgets/base",
            "_view_module_version": "1.2.0",
            "_view_name": "LayoutView",
            "align_content": null,
            "align_items": null,
            "align_self": null,
            "border": null,
            "bottom": null,
            "display": null,
            "flex": null,
            "flex_flow": null,
            "grid_area": null,
            "grid_auto_columns": null,
            "grid_auto_flow": null,
            "grid_auto_rows": null,
            "grid_column": null,
            "grid_gap": null,
            "grid_row": null,
            "grid_template_areas": null,
            "grid_template_columns": null,
            "grid_template_rows": null,
            "height": null,
            "justify_content": null,
            "justify_items": null,
            "left": null,
            "margin": null,
            "max_height": null,
            "max_width": null,
            "min_height": null,
            "min_width": null,
            "object_fit": null,
            "object_position": null,
            "order": null,
            "overflow": null,
            "overflow_x": null,
            "overflow_y": null,
            "padding": null,
            "right": null,
            "top": null,
            "visibility": null,
            "width": null
          }
        },
        "38ad04ea19614c7fafc3fe7130cf44d1": {
          "model_module": "@jupyter-widgets/base",
          "model_name": "LayoutModel",
          "model_module_version": "1.2.0",
          "state": {
            "_model_module": "@jupyter-widgets/base",
            "_model_module_version": "1.2.0",
            "_model_name": "LayoutModel",
            "_view_count": null,
            "_view_module": "@jupyter-widgets/base",
            "_view_module_version": "1.2.0",
            "_view_name": "LayoutView",
            "align_content": null,
            "align_items": null,
            "align_self": null,
            "border": null,
            "bottom": null,
            "display": null,
            "flex": null,
            "flex_flow": null,
            "grid_area": null,
            "grid_auto_columns": null,
            "grid_auto_flow": null,
            "grid_auto_rows": null,
            "grid_column": null,
            "grid_gap": null,
            "grid_row": null,
            "grid_template_areas": null,
            "grid_template_columns": null,
            "grid_template_rows": null,
            "height": null,
            "justify_content": null,
            "justify_items": null,
            "left": null,
            "margin": null,
            "max_height": null,
            "max_width": null,
            "min_height": null,
            "min_width": null,
            "object_fit": null,
            "object_position": null,
            "order": null,
            "overflow": null,
            "overflow_x": null,
            "overflow_y": null,
            "padding": null,
            "right": null,
            "top": null,
            "visibility": null,
            "width": null
          }
        },
        "e0930b3dc5b0401cb0bc061dbde9a01f": {
          "model_module": "@jupyter-widgets/controls",
          "model_name": "DescriptionStyleModel",
          "model_module_version": "1.5.0",
          "state": {
            "_model_module": "@jupyter-widgets/controls",
            "_model_module_version": "1.5.0",
            "_model_name": "DescriptionStyleModel",
            "_view_count": null,
            "_view_module": "@jupyter-widgets/base",
            "_view_module_version": "1.2.0",
            "_view_name": "StyleView",
            "description_width": ""
          }
        },
        "90d756b6fa734976a7d1ad7d6c1bb3c0": {
          "model_module": "@jupyter-widgets/base",
          "model_name": "LayoutModel",
          "model_module_version": "1.2.0",
          "state": {
            "_model_module": "@jupyter-widgets/base",
            "_model_module_version": "1.2.0",
            "_model_name": "LayoutModel",
            "_view_count": null,
            "_view_module": "@jupyter-widgets/base",
            "_view_module_version": "1.2.0",
            "_view_name": "LayoutView",
            "align_content": null,
            "align_items": null,
            "align_self": null,
            "border": null,
            "bottom": null,
            "display": null,
            "flex": null,
            "flex_flow": null,
            "grid_area": null,
            "grid_auto_columns": null,
            "grid_auto_flow": null,
            "grid_auto_rows": null,
            "grid_column": null,
            "grid_gap": null,
            "grid_row": null,
            "grid_template_areas": null,
            "grid_template_columns": null,
            "grid_template_rows": null,
            "height": null,
            "justify_content": null,
            "justify_items": null,
            "left": null,
            "margin": null,
            "max_height": null,
            "max_width": null,
            "min_height": null,
            "min_width": null,
            "object_fit": null,
            "object_position": null,
            "order": null,
            "overflow": null,
            "overflow_x": null,
            "overflow_y": null,
            "padding": null,
            "right": null,
            "top": null,
            "visibility": null,
            "width": null
          }
        },
        "9d36b9c8045b400aaf6587ce026585a7": {
          "model_module": "@jupyter-widgets/controls",
          "model_name": "DescriptionStyleModel",
          "model_module_version": "1.5.0",
          "state": {
            "_model_module": "@jupyter-widgets/controls",
            "_model_module_version": "1.5.0",
            "_model_name": "DescriptionStyleModel",
            "_view_count": null,
            "_view_module": "@jupyter-widgets/base",
            "_view_module_version": "1.2.0",
            "_view_name": "StyleView",
            "description_width": ""
          }
        },
        "a81cd152024d4c2c92c1900d135715f9": {
          "model_module": "@jupyter-widgets/base",
          "model_name": "LayoutModel",
          "model_module_version": "1.2.0",
          "state": {
            "_model_module": "@jupyter-widgets/base",
            "_model_module_version": "1.2.0",
            "_model_name": "LayoutModel",
            "_view_count": null,
            "_view_module": "@jupyter-widgets/base",
            "_view_module_version": "1.2.0",
            "_view_name": "LayoutView",
            "align_content": null,
            "align_items": null,
            "align_self": null,
            "border": null,
            "bottom": null,
            "display": null,
            "flex": null,
            "flex_flow": null,
            "grid_area": null,
            "grid_auto_columns": null,
            "grid_auto_flow": null,
            "grid_auto_rows": null,
            "grid_column": null,
            "grid_gap": null,
            "grid_row": null,
            "grid_template_areas": null,
            "grid_template_columns": null,
            "grid_template_rows": null,
            "height": null,
            "justify_content": null,
            "justify_items": null,
            "left": null,
            "margin": null,
            "max_height": null,
            "max_width": null,
            "min_height": null,
            "min_width": null,
            "object_fit": null,
            "object_position": null,
            "order": null,
            "overflow": null,
            "overflow_x": null,
            "overflow_y": null,
            "padding": null,
            "right": null,
            "top": null,
            "visibility": null,
            "width": null
          }
        },
        "15b42f76170847c8b56ae9d777b514e7": {
          "model_module": "@jupyter-widgets/controls",
          "model_name": "VBoxModel",
          "model_module_version": "1.5.0",
          "state": {
            "_dom_classes": [
              "widget-interact"
            ],
            "_model_module": "@jupyter-widgets/controls",
            "_model_module_version": "1.5.0",
            "_model_name": "VBoxModel",
            "_view_count": null,
            "_view_module": "@jupyter-widgets/controls",
            "_view_module_version": "1.5.0",
            "_view_name": "VBoxView",
            "box_style": "",
            "children": [
              "IPY_MODEL_c600584e6c684ec09a6c1917a441bf4e",
              "IPY_MODEL_3388656deb794f93b6b4762f79dc8a52"
            ],
            "layout": "IPY_MODEL_9b9e4d1df1f2417ab502f36b79911b57"
          }
        },
        "c600584e6c684ec09a6c1917a441bf4e": {
          "model_module": "@jupyter-widgets/controls",
          "model_name": "DropdownModel",
          "model_module_version": "1.5.0",
          "state": {
            "_dom_classes": [],
            "_model_module": "@jupyter-widgets/controls",
            "_model_module_version": "1.5.0",
            "_model_name": "DropdownModel",
            "_options_labels": [
              "日出",
              "日落"
            ],
            "_view_count": null,
            "_view_module": "@jupyter-widgets/controls",
            "_view_module_version": "1.5.0",
            "_view_name": "DropdownView",
            "description": "日出/日落",
            "description_tooltip": null,
            "disabled": false,
            "index": 0,
            "layout": "IPY_MODEL_85bb17dd4dd645f3b1c4eb437129dbbe",
            "style": "IPY_MODEL_b9ba8e86b870447db922bbb412a29927"
          }
        },
        "3388656deb794f93b6b4762f79dc8a52": {
          "model_module": "@jupyter-widgets/output",
          "model_name": "OutputModel",
          "model_module_version": "1.0.0",
          "state": {
            "_dom_classes": [],
            "_model_module": "@jupyter-widgets/output",
            "_model_module_version": "1.0.0",
            "_model_name": "OutputModel",
            "_view_count": null,
            "_view_module": "@jupyter-widgets/output",
            "_view_module_version": "1.0.0",
            "_view_name": "OutputView",
            "layout": "IPY_MODEL_42d1be0e84ce4d05b49f24873c033f67",
            "msg_id": "",
            "outputs": [
              {
                "output_type": "display_data",
                "data": {
                  "text/plain": "1"
                },
                "metadata": {}
              }
            ]
          }
        },
        "9b9e4d1df1f2417ab502f36b79911b57": {
          "model_module": "@jupyter-widgets/base",
          "model_name": "LayoutModel",
          "model_module_version": "1.2.0",
          "state": {
            "_model_module": "@jupyter-widgets/base",
            "_model_module_version": "1.2.0",
            "_model_name": "LayoutModel",
            "_view_count": null,
            "_view_module": "@jupyter-widgets/base",
            "_view_module_version": "1.2.0",
            "_view_name": "LayoutView",
            "align_content": null,
            "align_items": null,
            "align_self": null,
            "border": null,
            "bottom": null,
            "display": null,
            "flex": null,
            "flex_flow": null,
            "grid_area": null,
            "grid_auto_columns": null,
            "grid_auto_flow": null,
            "grid_auto_rows": null,
            "grid_column": null,
            "grid_gap": null,
            "grid_row": null,
            "grid_template_areas": null,
            "grid_template_columns": null,
            "grid_template_rows": null,
            "height": null,
            "justify_content": null,
            "justify_items": null,
            "left": null,
            "margin": null,
            "max_height": null,
            "max_width": null,
            "min_height": null,
            "min_width": null,
            "object_fit": null,
            "object_position": null,
            "order": null,
            "overflow": null,
            "overflow_x": null,
            "overflow_y": null,
            "padding": null,
            "right": null,
            "top": null,
            "visibility": null,
            "width": null
          }
        },
        "85bb17dd4dd645f3b1c4eb437129dbbe": {
          "model_module": "@jupyter-widgets/base",
          "model_name": "LayoutModel",
          "model_module_version": "1.2.0",
          "state": {
            "_model_module": "@jupyter-widgets/base",
            "_model_module_version": "1.2.0",
            "_model_name": "LayoutModel",
            "_view_count": null,
            "_view_module": "@jupyter-widgets/base",
            "_view_module_version": "1.2.0",
            "_view_name": "LayoutView",
            "align_content": null,
            "align_items": null,
            "align_self": null,
            "border": null,
            "bottom": null,
            "display": null,
            "flex": null,
            "flex_flow": null,
            "grid_area": null,
            "grid_auto_columns": null,
            "grid_auto_flow": null,
            "grid_auto_rows": null,
            "grid_column": null,
            "grid_gap": null,
            "grid_row": null,
            "grid_template_areas": null,
            "grid_template_columns": null,
            "grid_template_rows": null,
            "height": null,
            "justify_content": null,
            "justify_items": null,
            "left": null,
            "margin": null,
            "max_height": null,
            "max_width": null,
            "min_height": null,
            "min_width": null,
            "object_fit": null,
            "object_position": null,
            "order": null,
            "overflow": null,
            "overflow_x": null,
            "overflow_y": null,
            "padding": null,
            "right": null,
            "top": null,
            "visibility": null,
            "width": null
          }
        },
        "b9ba8e86b870447db922bbb412a29927": {
          "model_module": "@jupyter-widgets/controls",
          "model_name": "DescriptionStyleModel",
          "model_module_version": "1.5.0",
          "state": {
            "_model_module": "@jupyter-widgets/controls",
            "_model_module_version": "1.5.0",
            "_model_name": "DescriptionStyleModel",
            "_view_count": null,
            "_view_module": "@jupyter-widgets/base",
            "_view_module_version": "1.2.0",
            "_view_name": "StyleView",
            "description_width": ""
          }
        },
        "42d1be0e84ce4d05b49f24873c033f67": {
          "model_module": "@jupyter-widgets/base",
          "model_name": "LayoutModel",
          "model_module_version": "1.2.0",
          "state": {
            "_model_module": "@jupyter-widgets/base",
            "_model_module_version": "1.2.0",
            "_model_name": "LayoutModel",
            "_view_count": null,
            "_view_module": "@jupyter-widgets/base",
            "_view_module_version": "1.2.0",
            "_view_name": "LayoutView",
            "align_content": null,
            "align_items": null,
            "align_self": null,
            "border": null,
            "bottom": null,
            "display": null,
            "flex": null,
            "flex_flow": null,
            "grid_area": null,
            "grid_auto_columns": null,
            "grid_auto_flow": null,
            "grid_auto_rows": null,
            "grid_column": null,
            "grid_gap": null,
            "grid_row": null,
            "grid_template_areas": null,
            "grid_template_columns": null,
            "grid_template_rows": null,
            "height": null,
            "justify_content": null,
            "justify_items": null,
            "left": null,
            "margin": null,
            "max_height": null,
            "max_width": null,
            "min_height": null,
            "min_width": null,
            "object_fit": null,
            "object_position": null,
            "order": null,
            "overflow": null,
            "overflow_x": null,
            "overflow_y": null,
            "padding": null,
            "right": null,
            "top": null,
            "visibility": null,
            "width": null
          }
        },
        "dbf79f1636214faeada9633c5613d063": {
          "model_module": "@jupyter-widgets/controls",
          "model_name": "VBoxModel",
          "model_module_version": "1.5.0",
          "state": {
            "_dom_classes": [
              "widget-interact"
            ],
            "_model_module": "@jupyter-widgets/controls",
            "_model_module_version": "1.5.0",
            "_model_name": "VBoxModel",
            "_view_count": null,
            "_view_module": "@jupyter-widgets/controls",
            "_view_module_version": "1.5.0",
            "_view_name": "VBoxView",
            "box_style": "",
            "children": [
              "IPY_MODEL_71b89a8627674639b3b03443425c3618",
              "IPY_MODEL_2df9ff8fc17f4721b539d1be61162728"
            ],
            "layout": "IPY_MODEL_6a92bde2451e4cbc81d70c107fd89493"
          }
        },
        "71b89a8627674639b3b03443425c3618": {
          "model_module": "@jupyter-widgets/controls",
          "model_name": "DropdownModel",
          "model_module_version": "1.5.0",
          "state": {
            "_dom_classes": [],
            "_model_module": "@jupyter-widgets/controls",
            "_model_module_version": "1.5.0",
            "_model_name": "DropdownModel",
            "_options_labels": [
              "有日期",
              "無日期"
            ],
            "_view_count": null,
            "_view_module": "@jupyter-widgets/controls",
            "_view_module_version": "1.5.0",
            "_view_name": "DropdownView",
            "description": "日期標註",
            "description_tooltip": null,
            "disabled": false,
            "index": 0,
            "layout": "IPY_MODEL_9ef3832802344747b4abeeb660a0d3fd",
            "style": "IPY_MODEL_ba7a0e6a37524de88ff5129d4f836402"
          }
        },
        "2df9ff8fc17f4721b539d1be61162728": {
          "model_module": "@jupyter-widgets/output",
          "model_name": "OutputModel",
          "model_module_version": "1.0.0",
          "state": {
            "_dom_classes": [],
            "_model_module": "@jupyter-widgets/output",
            "_model_module_version": "1.0.0",
            "_model_name": "OutputModel",
            "_view_count": null,
            "_view_module": "@jupyter-widgets/output",
            "_view_module_version": "1.0.0",
            "_view_name": "OutputView",
            "layout": "IPY_MODEL_396c174de1eb43bdaceddb2e5be5e903",
            "msg_id": "",
            "outputs": [
              {
                "output_type": "display_data",
                "data": {
                  "text/plain": "True"
                },
                "metadata": {}
              }
            ]
          }
        },
        "6a92bde2451e4cbc81d70c107fd89493": {
          "model_module": "@jupyter-widgets/base",
          "model_name": "LayoutModel",
          "model_module_version": "1.2.0",
          "state": {
            "_model_module": "@jupyter-widgets/base",
            "_model_module_version": "1.2.0",
            "_model_name": "LayoutModel",
            "_view_count": null,
            "_view_module": "@jupyter-widgets/base",
            "_view_module_version": "1.2.0",
            "_view_name": "LayoutView",
            "align_content": null,
            "align_items": null,
            "align_self": null,
            "border": null,
            "bottom": null,
            "display": null,
            "flex": null,
            "flex_flow": null,
            "grid_area": null,
            "grid_auto_columns": null,
            "grid_auto_flow": null,
            "grid_auto_rows": null,
            "grid_column": null,
            "grid_gap": null,
            "grid_row": null,
            "grid_template_areas": null,
            "grid_template_columns": null,
            "grid_template_rows": null,
            "height": null,
            "justify_content": null,
            "justify_items": null,
            "left": null,
            "margin": null,
            "max_height": null,
            "max_width": null,
            "min_height": null,
            "min_width": null,
            "object_fit": null,
            "object_position": null,
            "order": null,
            "overflow": null,
            "overflow_x": null,
            "overflow_y": null,
            "padding": null,
            "right": null,
            "top": null,
            "visibility": null,
            "width": null
          }
        },
        "9ef3832802344747b4abeeb660a0d3fd": {
          "model_module": "@jupyter-widgets/base",
          "model_name": "LayoutModel",
          "model_module_version": "1.2.0",
          "state": {
            "_model_module": "@jupyter-widgets/base",
            "_model_module_version": "1.2.0",
            "_model_name": "LayoutModel",
            "_view_count": null,
            "_view_module": "@jupyter-widgets/base",
            "_view_module_version": "1.2.0",
            "_view_name": "LayoutView",
            "align_content": null,
            "align_items": null,
            "align_self": null,
            "border": null,
            "bottom": null,
            "display": null,
            "flex": null,
            "flex_flow": null,
            "grid_area": null,
            "grid_auto_columns": null,
            "grid_auto_flow": null,
            "grid_auto_rows": null,
            "grid_column": null,
            "grid_gap": null,
            "grid_row": null,
            "grid_template_areas": null,
            "grid_template_columns": null,
            "grid_template_rows": null,
            "height": null,
            "justify_content": null,
            "justify_items": null,
            "left": null,
            "margin": null,
            "max_height": null,
            "max_width": null,
            "min_height": null,
            "min_width": null,
            "object_fit": null,
            "object_position": null,
            "order": null,
            "overflow": null,
            "overflow_x": null,
            "overflow_y": null,
            "padding": null,
            "right": null,
            "top": null,
            "visibility": null,
            "width": null
          }
        },
        "ba7a0e6a37524de88ff5129d4f836402": {
          "model_module": "@jupyter-widgets/controls",
          "model_name": "DescriptionStyleModel",
          "model_module_version": "1.5.0",
          "state": {
            "_model_module": "@jupyter-widgets/controls",
            "_model_module_version": "1.5.0",
            "_model_name": "DescriptionStyleModel",
            "_view_count": null,
            "_view_module": "@jupyter-widgets/base",
            "_view_module_version": "1.2.0",
            "_view_name": "StyleView",
            "description_width": ""
          }
        },
        "396c174de1eb43bdaceddb2e5be5e903": {
          "model_module": "@jupyter-widgets/base",
          "model_name": "LayoutModel",
          "model_module_version": "1.2.0",
          "state": {
            "_model_module": "@jupyter-widgets/base",
            "_model_module_version": "1.2.0",
            "_model_name": "LayoutModel",
            "_view_count": null,
            "_view_module": "@jupyter-widgets/base",
            "_view_module_version": "1.2.0",
            "_view_name": "LayoutView",
            "align_content": null,
            "align_items": null,
            "align_self": null,
            "border": null,
            "bottom": null,
            "display": null,
            "flex": null,
            "flex_flow": null,
            "grid_area": null,
            "grid_auto_columns": null,
            "grid_auto_flow": null,
            "grid_auto_rows": null,
            "grid_column": null,
            "grid_gap": null,
            "grid_row": null,
            "grid_template_areas": null,
            "grid_template_columns": null,
            "grid_template_rows": null,
            "height": null,
            "justify_content": null,
            "justify_items": null,
            "left": null,
            "margin": null,
            "max_height": null,
            "max_width": null,
            "min_height": null,
            "min_width": null,
            "object_fit": null,
            "object_position": null,
            "order": null,
            "overflow": null,
            "overflow_x": null,
            "overflow_y": null,
            "padding": null,
            "right": null,
            "top": null,
            "visibility": null,
            "width": null
          }
        }
      }
    }
  },
  "cells": [
    {
      "cell_type": "markdown",
      "metadata": {
        "id": "view-in-github",
        "colab_type": "text"
      },
      "source": [
        "<a href=\"https://colab.research.google.com/github/ro4402/blank-app/blob/main/skyfield_alt_of_riseset.ipynb\" target=\"_parent\"><img src=\"https://colab.research.google.com/assets/colab-badge.svg\" alt=\"Open In Colab\"/></a>"
      ]
    },
    {
      "cell_type": "markdown",
      "source": [
        "# **套件導入/設定**"
      ],
      "metadata": {
        "id": "Wj7hxh58pJHY"
      }
    },
    {
      "cell_type": "code",
      "execution_count": null,
      "metadata": {
        "colab": {
          "base_uri": "https://localhost:8080/"
        },
        "collapsed": true,
        "id": "7wOdvtQ3mMZ9",
        "outputId": "957a5dc0-f103-4583-ea9b-a1b159bdc5d9"
      },
      "outputs": [
        {
          "output_type": "stream",
          "name": "stdout",
          "text": [
            "Requirement already satisfied: matplotlib in /usr/local/lib/python3.11/dist-packages (3.10.0)\n",
            "Requirement already satisfied: contourpy>=1.0.1 in /usr/local/lib/python3.11/dist-packages (from matplotlib) (1.3.1)\n",
            "Requirement already satisfied: cycler>=0.10 in /usr/local/lib/python3.11/dist-packages (from matplotlib) (0.12.1)\n",
            "Requirement already satisfied: fonttools>=4.22.0 in /usr/local/lib/python3.11/dist-packages (from matplotlib) (4.55.3)\n",
            "Requirement already satisfied: kiwisolver>=1.3.1 in /usr/local/lib/python3.11/dist-packages (from matplotlib) (1.4.8)\n",
            "Requirement already satisfied: numpy>=1.23 in /usr/local/lib/python3.11/dist-packages (from matplotlib) (1.26.4)\n",
            "Requirement already satisfied: packaging>=20.0 in /usr/local/lib/python3.11/dist-packages (from matplotlib) (24.2)\n",
            "Requirement already satisfied: pillow>=8 in /usr/local/lib/python3.11/dist-packages (from matplotlib) (11.1.0)\n",
            "Requirement already satisfied: pyparsing>=2.3.1 in /usr/local/lib/python3.11/dist-packages (from matplotlib) (3.2.1)\n",
            "Requirement already satisfied: python-dateutil>=2.7 in /usr/local/lib/python3.11/dist-packages (from matplotlib) (2.8.2)\n",
            "Requirement already satisfied: six>=1.5 in /usr/local/lib/python3.11/dist-packages (from python-dateutil>=2.7->matplotlib) (1.17.0)\n",
            "Collecting skyfield==1.49\n",
            "  Downloading skyfield-1.49-py3-none-any.whl.metadata (2.4 kB)\n",
            "Requirement already satisfied: certifi>=2017.4.17 in /usr/local/lib/python3.11/dist-packages (from skyfield==1.49) (2024.12.14)\n",
            "Collecting jplephem>=2.13 (from skyfield==1.49)\n",
            "  Downloading jplephem-2.22-py3-none-any.whl.metadata (22 kB)\n",
            "Requirement already satisfied: numpy in /usr/local/lib/python3.11/dist-packages (from skyfield==1.49) (1.26.4)\n",
            "Collecting sgp4>=2.2 (from skyfield==1.49)\n",
            "  Downloading sgp4-2.23-cp311-cp311-manylinux_2_5_x86_64.manylinux1_x86_64.manylinux_2_17_x86_64.manylinux2014_x86_64.whl.metadata (31 kB)\n",
            "Downloading skyfield-1.49-py3-none-any.whl (336 kB)\n",
            "\u001b[2K   \u001b[90m━━━━━━━━━━━━━━━━━━━━━━━━━━━━━━━━━━━━━━━━\u001b[0m \u001b[32m336.2/336.2 kB\u001b[0m \u001b[31m8.9 MB/s\u001b[0m eta \u001b[36m0:00:00\u001b[0m\n",
            "\u001b[?25hDownloading jplephem-2.22-py3-none-any.whl (47 kB)\n",
            "\u001b[2K   \u001b[90m━━━━━━━━━━━━━━━━━━━━━━━━━━━━━━━━━━━━━━━━\u001b[0m \u001b[32m47.2/47.2 kB\u001b[0m \u001b[31m2.8 MB/s\u001b[0m eta \u001b[36m0:00:00\u001b[0m\n",
            "\u001b[?25hDownloading sgp4-2.23-cp311-cp311-manylinux_2_5_x86_64.manylinux1_x86_64.manylinux_2_17_x86_64.manylinux2014_x86_64.whl (232 kB)\n",
            "\u001b[2K   \u001b[90m━━━━━━━━━━━━━━━━━━━━━━━━━━━━━━━━━━━━━━━━\u001b[0m \u001b[32m232.3/232.3 kB\u001b[0m \u001b[31m15.4 MB/s\u001b[0m eta \u001b[36m0:00:00\u001b[0m\n",
            "\u001b[?25hInstalling collected packages: sgp4, jplephem, skyfield\n",
            "Successfully installed jplephem-2.22 sgp4-2.23 skyfield-1.49\n"
          ]
        }
      ],
      "source": [
        "!pip install matplotlib\n",
        "!pip install skyfield==1.49"
      ]
    },
    {
      "cell_type": "code",
      "source": [
        "import pandas as pd\n",
        "import numpy as np\n",
        "import matplotlib.pyplot as plt\n",
        "from skyfield import almanac; from skyfield.api import load, wgs84; from skyfield.magnitudelib import planetary_magnitude\n",
        "import ipywidgets as widgets\n",
        "from IPython.display import display\n",
        "import datetime; from dateutil.relativedelta import relativedelta\n"
      ],
      "metadata": {
        "id": "aNOvfmm8mg8J"
      },
      "execution_count": null,
      "outputs": []
    },
    {
      "cell_type": "markdown",
      "source": [
        "允許matplotlib產生含中文字元的圖片"
      ],
      "metadata": {
        "id": "L9W2pC6FsqKy"
      }
    },
    {
      "cell_type": "code",
      "source": [
        "!wget -O taipei_sans_tc_beta.ttf https://drive.google.com/uc?id=1eGAsTN1HBpJAkeVM57_C7ccp7hbgSz3_&export=download\n",
        "import matplotlib\n",
        "matplotlib.font_manager.fontManager.addfont('taipei_sans_tc_beta.ttf')\n",
        "matplotlib.rc('font', family='Taipei Sans TC Beta')\n",
        "\n",
        "plt.rc('font', size = 14)   #global size\n",
        "plt.rc('axes', titlesize = 24)\n",
        "plt.rc('axes', titlepad = 30)\n",
        "plt.rc('axes', labelsize = 16)\n",
        "plt.rc('axes', labelpad = 24)"
      ],
      "metadata": {
        "id": "dE0k_ryyspu6",
        "colab": {
          "base_uri": "https://localhost:8080/"
        },
        "outputId": "9b3b42d1-294c-432e-bda9-2c00be4d5f73"
      },
      "execution_count": null,
      "outputs": [
        {
          "output_type": "stream",
          "name": "stdout",
          "text": [
            "--2025-01-22 06:04:36--  https://drive.google.com/uc?id=1eGAsTN1HBpJAkeVM57_C7ccp7hbgSz3_\n",
            "Resolving drive.google.com (drive.google.com)... 74.125.141.139, 74.125.141.113, 74.125.141.102, ...\n",
            "Connecting to drive.google.com (drive.google.com)|74.125.141.139|:443... connected.\n",
            "HTTP request sent, awaiting response... 303 See Other\n",
            "Location: https://drive.usercontent.google.com/download?id=1eGAsTN1HBpJAkeVM57_C7ccp7hbgSz3_ [following]\n",
            "--2025-01-22 06:04:36--  https://drive.usercontent.google.com/download?id=1eGAsTN1HBpJAkeVM57_C7ccp7hbgSz3_\n",
            "Resolving drive.usercontent.google.com (drive.usercontent.google.com)... 173.194.217.132, 2607:f8b0:400c:c13::84\n",
            "Connecting to drive.usercontent.google.com (drive.usercontent.google.com)|173.194.217.132|:443... connected.\n",
            "HTTP request sent, awaiting response... 200 OK\n",
            "Length: 20659344 (20M) [application/octet-stream]\n",
            "Saving to: ‘taipei_sans_tc_beta.ttf’\n",
            "\n",
            "taipei_sans_tc_beta 100%[===================>]  19.70M  --.-KB/s    in 0.1s    \n",
            "\n",
            "2025-01-22 06:04:39 (150 MB/s) - ‘taipei_sans_tc_beta.ttf’ saved [20659344/20659344]\n",
            "\n"
          ]
        }
      ]
    },
    {
      "cell_type": "markdown",
      "source": [
        "# **計算設定(skyfield)**"
      ],
      "metadata": {
        "id": "9rXJm2eLqE2w"
      }
    },
    {
      "cell_type": "markdown",
      "source": [
        "導入星曆表(DE440)，從星曆表取用各個天體的軌道參數"
      ],
      "metadata": {
        "id": "bIGwAt8BpyTx"
      }
    },
    {
      "cell_type": "code",
      "source": [
        "eph = load('de440.bsp')\n",
        "ts = load.timescale()\n",
        "\n",
        "earth, sun = eph['EARTH'], eph['SUN']\n",
        "mercury, venus, mars, jupiter, saturn, uranus, neptune = eph['MERCURY'], eph['VENUS'], eph['MARS BARYCENTER'], eph['JUPITER BARYCENTER'], eph['SATURN BARYCENTER'], eph['URANUS BARYCENTER'], eph['NEPTUNE BARYCENTER']"
      ],
      "metadata": {
        "id": "9AGzn3qfnN3Y",
        "colab": {
          "base_uri": "https://localhost:8080/"
        },
        "outputId": "8d08a3d3-559d-43e8-c08b-2f6e14130d92"
      },
      "execution_count": null,
      "outputs": [
        {
          "output_type": "stream",
          "name": "stderr",
          "text": [
            "[#################################] 100% de440.bsp\n"
          ]
        }
      ]
    },
    {
      "cell_type": "markdown",
      "source": [
        "計算期間內每天的太陽升/落事件的時間"
      ],
      "metadata": {
        "id": "D6JoP8WW95HK"
      }
    },
    {
      "cell_type": "code",
      "source": [
        "def riseset_time(start, end, observer, whereis_sun):\n",
        "  f = almanac.sunrise_sunset(eph, observer)\n",
        "  t, y = almanac.find_discrete(start, end, f)\n",
        "  sun_riseset = (y == whereis_sun) #sunset: whereis_sun = 0, sunrise: whereis_sun = 1\n",
        "  t = t[sun_riseset]\n",
        "  return t"
      ],
      "metadata": {
        "id": "wO5WdjVc90Qb"
      },
      "execution_count": null,
      "outputs": []
    },
    {
      "cell_type": "markdown",
      "source": [
        "計算給定時間串列中某時間行星的高度角、方位角、亮度、與地球距離"
      ],
      "metadata": {
        "id": "z3JivJ7HCX-9"
      }
    },
    {
      "cell_type": "code",
      "source": [
        "def apparent(observer,planet,t):\n",
        "  apparent_para = (earth + observer).at(t).observe(planet).apparent()\n",
        "  alt, az, distance = apparent_para.altaz()\n",
        "  x, y = az.degrees, alt.degrees\n",
        "  m = planetary_magnitude(apparent_para)\n",
        "  return x, y, m, distance"
      ],
      "metadata": {
        "id": "Rl7XHLp5_kGb"
      },
      "execution_count": null,
      "outputs": []
    },
    {
      "cell_type": "markdown",
      "source": [
        "# **使用者設定(每一欄都須選取)**"
      ],
      "metadata": {
        "id": "5F5qiy918Kui"
      }
    },
    {
      "cell_type": "markdown",
      "source": [
        "使用者設定"
      ],
      "metadata": {
        "id": "rF7uKw99o8ZY"
      }
    },
    {
      "cell_type": "code",
      "source": [
        "def f_loc(lat, lon):\n",
        "  observer = [lat, lon]\n",
        "  return observer\n",
        "lat = widgets.BoundedFloatText(value = 25.0958, min = -65.0000, max = 65.0000, description = '緯度', disabled = False)\n",
        "lon = widgets.BoundedFloatText(value = 121.5183, min = -180.0000, max = 180.0000, description = '經度', disabled = False)\n",
        "widgets.interact(f_loc, lat = lat, lon = lon)\n",
        "\n",
        "#####\n",
        "\n",
        "def f_target(planet):\n",
        "    return planet.target_name\n",
        "planet = widgets.Dropdown(\n",
        "    options=[('水星',mercury), ('金星',venus), ('火星',mars), ('木星',jupiter), ('土星',saturn), ('天王星',uranus), ('海王星',neptune)],\n",
        "    value=mercury,\n",
        "    description='行星',\n",
        ")\n",
        "widgets.interact(f_target, planet = planet)\n",
        "\n",
        "#####\n",
        "\n",
        "start_date = widgets.DatePicker(description='開始日期', disabled=False, value = datetime.date.today())\n",
        "end_date = widgets.DatePicker(description='結束日期', disabled=False, value = datetime.date.today()+relativedelta(years=1))\n",
        "def f_date(start_date, end_date):\n",
        "  duration_days = (end_date-start_date).days\n",
        "  print(\"天數={}天\".format(duration_days))\n",
        "widgets.interact(f_date, start_date = start_date, end_date = end_date)\n",
        "\n",
        "#####\n",
        "\n",
        "whereis_sun = widgets.Dropdown(\n",
        "    options=[('日出',1), ('日落',0)],\n",
        "    value=1,\n",
        "    description='日出/日落',\n",
        ")\n",
        "def f_status(whereis_sun: int):\n",
        "    return whereis_sun\n",
        "widgets.interact(f_status, whereis_sun = whereis_sun)\n",
        "\n",
        "#####\n",
        "\n",
        "text = widgets.Dropdown(\n",
        "    options=[('有日期',True), ('無日期',False)],\n",
        "    value=True,\n",
        "    description='日期標註',\n",
        ")\n",
        "def f_status(text):\n",
        "    return text\n",
        "widgets.interact(f_status, text = text)\n"
      ],
      "metadata": {
        "colab": {
          "base_uri": "https://localhost:8080/",
          "height": 416,
          "referenced_widgets": [
            "b64aa4b5622e45d28803087379f2719a",
            "4a56471bec924d3a94436abf20b97f01",
            "0fd0510a9e0b456fbf71b5a184f816ae",
            "f3570a5d61b9442db904689d56a3edaa",
            "f97ce821cd1c4da29f3395264fdfa857",
            "8c76b4ff09bc479281999f1461825943",
            "e47ff9cdefc546bf88dd5fcc607eec5c",
            "0e459af0104348faabdf9c89053bdf0b",
            "1772192a0e6346478dbd1eb3c6e51b8a",
            "15e778efeef64cc4bb25deab61da3c56",
            "4639c8486e4e405eada339fefb22c7e7",
            "31ca78c6dd684aaea28d209748c15c24",
            "c82586d5574b48079aa98122a4acb3d6",
            "e09aebcad0144b909697b3d4de12858d",
            "dd03c68473434c2190e7d45f3d310f67",
            "495611ec502647a9bf29bd8124e5878f",
            "d897d1693ee64d33a5fb9a18fc656639",
            "a31f7117a77142bebaf0b411e93cbaed",
            "f1b309f493c14bc0a2a76f9117876628",
            "f3266cdfc3fa4ee684c71febc6959e96",
            "81ad11f4497749cb9830a00dd0dde8bf",
            "5259cdf27ed246ada6e7a85b919f332e",
            "38ad04ea19614c7fafc3fe7130cf44d1",
            "e0930b3dc5b0401cb0bc061dbde9a01f",
            "90d756b6fa734976a7d1ad7d6c1bb3c0",
            "9d36b9c8045b400aaf6587ce026585a7",
            "a81cd152024d4c2c92c1900d135715f9",
            "15b42f76170847c8b56ae9d777b514e7",
            "c600584e6c684ec09a6c1917a441bf4e",
            "3388656deb794f93b6b4762f79dc8a52",
            "9b9e4d1df1f2417ab502f36b79911b57",
            "85bb17dd4dd645f3b1c4eb437129dbbe",
            "b9ba8e86b870447db922bbb412a29927",
            "42d1be0e84ce4d05b49f24873c033f67",
            "dbf79f1636214faeada9633c5613d063",
            "71b89a8627674639b3b03443425c3618",
            "2df9ff8fc17f4721b539d1be61162728",
            "6a92bde2451e4cbc81d70c107fd89493",
            "9ef3832802344747b4abeeb660a0d3fd",
            "ba7a0e6a37524de88ff5129d4f836402",
            "396c174de1eb43bdaceddb2e5be5e903"
          ]
        },
        "id": "YCH26W4ctkAK",
        "outputId": "4ffc854b-6c64-430a-9d1a-1ec95c16b016"
      },
      "execution_count": null,
      "outputs": [
        {
          "output_type": "display_data",
          "data": {
            "text/plain": [
              "interactive(children=(BoundedFloatText(value=25.0958, description='緯度', max=65.0, min=-65.0), BoundedFloatText…"
            ],
            "application/vnd.jupyter.widget-view+json": {
              "version_major": 2,
              "version_minor": 0,
              "model_id": "b64aa4b5622e45d28803087379f2719a"
            }
          },
          "metadata": {}
        },
        {
          "output_type": "display_data",
          "data": {
            "text/plain": [
              "interactive(children=(Dropdown(description='行星', options=(('水星', <VectorSum of 2 vectors:\n",
              " 'de440.bsp' segment…"
            ],
            "application/vnd.jupyter.widget-view+json": {
              "version_major": 2,
              "version_minor": 0,
              "model_id": "4639c8486e4e405eada339fefb22c7e7"
            }
          },
          "metadata": {}
        },
        {
          "output_type": "display_data",
          "data": {
            "text/plain": [
              "interactive(children=(DatePicker(value=datetime.date(2025, 1, 22), description='開始日期'), DatePicker(value=datet…"
            ],
            "application/vnd.jupyter.widget-view+json": {
              "version_major": 2,
              "version_minor": 0,
              "model_id": "a31f7117a77142bebaf0b411e93cbaed"
            }
          },
          "metadata": {}
        },
        {
          "output_type": "display_data",
          "data": {
            "text/plain": [
              "interactive(children=(Dropdown(description='日出/日落', options=(('日出', 1), ('日落', 0)), value=1), Output()), _dom_…"
            ],
            "application/vnd.jupyter.widget-view+json": {
              "version_major": 2,
              "version_minor": 0,
              "model_id": "15b42f76170847c8b56ae9d777b514e7"
            }
          },
          "metadata": {}
        },
        {
          "output_type": "display_data",
          "data": {
            "text/plain": [
              "interactive(children=(Dropdown(description='日期標註', options=(('有日期', True), ('無日期', False)), value=True), Outpu…"
            ],
            "application/vnd.jupyter.widget-view+json": {
              "version_major": 2,
              "version_minor": 0,
              "model_id": "dbf79f1636214faeada9633c5613d063"
            }
          },
          "metadata": {}
        },
        {
          "output_type": "execute_result",
          "data": {
            "text/plain": [
              "<function __main__.f_status(text)>"
            ],
            "text/html": [
              "<div style=\"max-width:800px; border: 1px solid var(--colab-border-color);\"><style>\n",
              "      pre.function-repr-contents {\n",
              "        overflow-x: auto;\n",
              "        padding: 8px 12px;\n",
              "        max-height: 500px;\n",
              "      }\n",
              "\n",
              "      pre.function-repr-contents.function-repr-contents-collapsed {\n",
              "        cursor: pointer;\n",
              "        max-height: 100px;\n",
              "      }\n",
              "    </style>\n",
              "    <pre style=\"white-space: initial; background:\n",
              "         var(--colab-secondary-surface-color); padding: 8px 12px;\n",
              "         border-bottom: 1px solid var(--colab-border-color);\"><b>f_status</b><br/>def f_status(text)</pre><pre class=\"function-repr-contents function-repr-contents-collapsed\" style=\"\"><a class=\"filepath\" style=\"display:none\" href=\"#\">/content/&lt;ipython-input-32-1820eb272c1e&gt;</a>&lt;no docstring&gt;</pre></div>"
            ]
          },
          "metadata": {},
          "execution_count": 32
        }
      ]
    },
    {
      "cell_type": "markdown",
      "source": [
        "# **繪製**"
      ],
      "metadata": {
        "id": "qXg6XmszTFp6"
      }
    },
    {
      "cell_type": "code",
      "source": [
        "# 將使用者輸入的數值轉換為skyfield可讀型式\n",
        "obs = wgs84.latlon(lat.value, lon.value)\n",
        "start = ts.utc(start_date.value.year,start_date.value.month,start_date.value.day)\n",
        "end = ts.utc(end_date.value.year,end_date.value.month,end_date.value.day)\n",
        "\n",
        "# 計算太陽每天的升/落時間，再計算該時間行星的方位角、仰角、亮度與距離\n",
        "riseset = riseset_time(start, end, obs, whereis_sun.value)\n",
        "az, alt, m, distance = apparent(obs,planet.value,riseset)\n",
        "year, month, day, hour, minute, second = riseset.utc\n",
        "month = month.astype(int)\n",
        "day = day.astype(int)\n",
        "\n",
        "# 將行星亮度m均值化\n",
        "maxmag = max(m)\n",
        "minmag = min(m)\n",
        "size = 40 - 30 * (m - minmag) / (maxmag - minmag)\n",
        "\n",
        "# 圖片1：日出/日落時行星的方位角與仰角\n",
        "fig1, ax1 = plt.subplots(figsize=[16, 9])\n",
        "ax1.plot(az, alt, c='grey', zorder=1)  #行星軌跡連續線\n",
        "fives = (day % 5 == 1) & (day < 30) #每5天標註一點\n",
        "ax1.scatter(az[fives], alt[fives], size[fives], 'black',\n",
        "           edgecolor='black', linewidth=0.25, zorder=2)\n",
        "offset_x, offset_y = 15, 15\n",
        "for i in np.flatnonzero(fives):\n",
        "    if i == 0:\n",
        "        continue\n",
        "    day_i = day[i]\n",
        "    xi = az[i]\n",
        "    yi = alt[i]\n",
        "    dx = xi - az[i-1]\n",
        "    dy = yi - alt[i-1]\n",
        "    length = np.sqrt(dx*dx + dy*dy)\n",
        "    dx /= length\n",
        "    dy /= length\n",
        "    side = 'right' if (year[i], month[i], day[i])>(2024, 9, 30) else 'left' #TODO 字重疊問題\n",
        "    if side == 'left':\n",
        "        xytext = - offset_x*dy, offset_y*dx\n",
        "    else:\n",
        "        xytext = offset_x*dy, - offset_y*dx\n",
        "\n",
        "    # 日期為1、11、21時標註日期\n",
        "    if day_i in (1, 11, 21)and text.value:\n",
        "        ax1.annotate(\"{}/{}\".format(month[i],day_i), (xi, yi), c='black', ha='center', va='center',\n",
        "                    textcoords='offset points', xytext=xytext, size=10)\n",
        "\n",
        "points = '北 東北 東 東南 南 西南 西 西北'.split()\n",
        "for i, name in enumerate(points):\n",
        "    xy = 45.1* i, 0.5\n",
        "    ax1.annotate(name, xy, c='black', ha='center', size=16, weight='bold')\n",
        "ax1.set(\n",
        "    xlabel='方位角 (度)',\n",
        "    ylabel='仰角 (度)',\n",
        "    xlim=(max(min(az) - 8.0, 0), min(max(az) + 8.0, 360)),\n",
        "    ylim=(0, min((max(alt) + 8.0), 90)),\n",
        "    xticks=np.arange(max(min(az) - 8.0, 0)//15.0*15, min(max(az) + 8.0, 360), 15)//15.0*15,\n",
        ")\n",
        "ax1.grid(c='grey',axis='y')\n",
        "\n",
        "\n",
        "# 圖片2：行星每天與地球的距離\n",
        "fig2, ax2 = plt.subplots(figsize=[16, 9])\n",
        "numofdays = np.arange(1,end-start+1,1)\n",
        "dis_au = distance.au\n",
        "ax2.plot(numofdays, dis_au, c='grey', zorder=1)  #行星軌跡連續線\n",
        "fives = (day % 5 == 1) & (day < 30) #每5天標註一點\n",
        "ax2.scatter(numofdays[fives], dis_au[fives], size[fives], 'black',\n",
        "           edgecolor='black', linewidth=0.25, zorder=2)\n",
        "offset_x, offset_y = 15, 15\n",
        "for i in np.flatnonzero(fives):\n",
        "    if i == 0:\n",
        "        continue\n",
        "    day_i = day[i]\n",
        "    xi = numofdays[i]\n",
        "    yi = dis_au[i]\n",
        "    dx = xi - numofdays[i-1]\n",
        "    dy = yi - dis_au[i-1]\n",
        "    length = np.sqrt(dx*dx + dy*dy)\n",
        "    dx /= length\n",
        "    dy /= length\n",
        "    side = 'right' if (year[i], month[i], day[i])>(2024, 9, 30) else 'left' #TODO 字重疊問題\n",
        "    if side == 'left':\n",
        "        xytext = - offset_x*dy, offset_y*dx\n",
        "    else:\n",
        "        xytext = offset_x*dy, - offset_y*dx\n",
        "\n",
        "    # 日期為1時標註日期\n",
        "    if day_i == 1 and text.value:\n",
        "        ax2.annotate(\"{}/{}\".format(month[i],day_i), (xi, yi), c='black', ha='center', va='center',\n",
        "                    textcoords='offset points', xytext=xytext, size=10)\n",
        "ax2.set(\n",
        "    xlabel='時間 (天)',\n",
        "    ylabel='距離 (AU)',\n",
        "    xlim=(0, numofdays.size+1),\n",
        "    ylim=(min(dis_au)-(max(dis_au)-min(dis_au))*0.1, max(dis_au)+(max(dis_au)-min(dis_au))*0.1),\n",
        "    xticks=np.arange(1,end-start+1,30)//30*30\n",
        ")\n",
        "ax2.grid(c='grey',axis='y')"
      ],
      "metadata": {
        "colab": {
          "base_uri": "https://localhost:8080/",
          "height": 1000
        },
        "id": "qU00SQ_rRJpT",
        "outputId": "4951def0-54d1-406e-dd74-d4063e50586d"
      },
      "execution_count": null,
      "outputs": [
        {
          "output_type": "display_data",
          "data": {
            "text/plain": [
              "<Figure size 1600x900 with 1 Axes>"
            ],
            "image/png": "[encoded data removed]"
          },
          "metadata": {}
        },
        {
          "output_type": "display_data",
          "data": {
            "text/plain": [
              "<Figure size 1600x900 with 1 Axes>"
            ],
            "image/png": "[encoded data removed]"
          },
          "metadata": {}
        }
      ]
    },
    {
      "cell_type": "code",
      "source": [
        "print(len(riseset))\n",
        "print(riseset)\n"
      ],
      "metadata": {
        "colab": {
          "base_uri": "https://localhost:8080/"
        },
        "id": "GNxOccxstPe-",
        "outputId": "d9e6def1-3852-46e2-9955-68c28765bb83"
      },
      "execution_count": null,
      "outputs": [
        {
          "output_type": "stream",
          "name": "stdout",
          "text": [
            "365\n",
            "<Time tt=[2460698.319939285 ... 2461062.3179181754] len=365>\n"
          ]
        }
      ]
    }
  ]
}